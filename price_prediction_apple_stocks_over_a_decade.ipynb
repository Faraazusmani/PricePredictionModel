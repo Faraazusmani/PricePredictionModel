{
  "nbformat": 4,
  "nbformat_minor": 0,
  "metadata": {
    "colab": {
      "name": "price prediction apple stocks over a decade",
      "provenance": [],
      "collapsed_sections": [],
      "authorship_tag": "ABX9TyNYReuymbwyQPQ4/i/uZhhX",
      "include_colab_link": true
    },
    "kernelspec": {
      "name": "python3",
      "display_name": "Python 3"
    }
  },
  "cells": [
    {
      "cell_type": "markdown",
      "metadata": {
        "id": "view-in-github",
        "colab_type": "text"
      },
      "source": [
        "<a href=\"https://colab.research.google.com/github/Faraazusmani/PricePredictionModel/blob/main/price_prediction_apple_stocks_over_a_decade.ipynb\" target=\"_parent\"><img src=\"https://colab.research.google.com/assets/colab-badge.svg\" alt=\"Open In Colab\"/></a>"
      ]
    },
    {
      "cell_type": "code",
      "metadata": {
        "id": "GieZMaUcUZ4b"
      },
      "source": [
        "#About: This project uses an artificial recurrent neural network called Long Short Term Memory (LSTM)\n",
        "#       Predict the closing stock price of a corporation (Apple Inc.) using the past 60 days stock price"
      ],
      "execution_count": null,
      "outputs": []
    },
    {
      "cell_type": "code",
      "metadata": {
        "id": "HAtvfFOpWJGD"
      },
      "source": [
        "#Import the libraries\n",
        "import math\n",
        "import pandas_datareader as web\n",
        "import numpy as np\n",
        "import pandas as pd\n",
        "from sklearn.preprocessing import MinMaxScaler\n",
        "from keras.models import Sequential\n",
        "from keras.layers import Dense, LSTM\n",
        "import matplotlib.pyplot as plt\n",
        "plt.style.use('fivethirtyeight')"
      ],
      "execution_count": null,
      "outputs": []
    },
    {
      "cell_type": "code",
      "metadata": {
        "colab": {
          "base_uri": "https://localhost:8080/",
          "height": 446
        },
        "id": "hJB8LCwIXhay",
        "outputId": "82673a61-2f14-41b7-900c-22d2cbf65889"
      },
      "source": [
        "#Get the stock quote\n",
        "df = web.DataReader('AAPL', data_source='yahoo', start='2010-01-01', end='2020-12-30')\n",
        "#show the data\n",
        "df"
      ],
      "execution_count": null,
      "outputs": [
        {
          "output_type": "execute_result",
          "data": {
            "text/html": [
              "<div>\n",
              "<style scoped>\n",
              "    .dataframe tbody tr th:only-of-type {\n",
              "        vertical-align: middle;\n",
              "    }\n",
              "\n",
              "    .dataframe tbody tr th {\n",
              "        vertical-align: top;\n",
              "    }\n",
              "\n",
              "    .dataframe thead th {\n",
              "        text-align: right;\n",
              "    }\n",
              "</style>\n",
              "<table border=\"1\" class=\"dataframe\">\n",
              "  <thead>\n",
              "    <tr style=\"text-align: right;\">\n",
              "      <th></th>\n",
              "      <th>High</th>\n",
              "      <th>Low</th>\n",
              "      <th>Open</th>\n",
              "      <th>Close</th>\n",
              "      <th>Volume</th>\n",
              "      <th>Adj Close</th>\n",
              "    </tr>\n",
              "    <tr>\n",
              "      <th>Date</th>\n",
              "      <th></th>\n",
              "      <th></th>\n",
              "      <th></th>\n",
              "      <th></th>\n",
              "      <th></th>\n",
              "      <th></th>\n",
              "    </tr>\n",
              "  </thead>\n",
              "  <tbody>\n",
              "    <tr>\n",
              "      <th>2010-01-04</th>\n",
              "      <td>7.660714</td>\n",
              "      <td>7.585000</td>\n",
              "      <td>7.622500</td>\n",
              "      <td>7.643214</td>\n",
              "      <td>493729600.0</td>\n",
              "      <td>6.593426</td>\n",
              "    </tr>\n",
              "    <tr>\n",
              "      <th>2010-01-05</th>\n",
              "      <td>7.699643</td>\n",
              "      <td>7.616071</td>\n",
              "      <td>7.664286</td>\n",
              "      <td>7.656428</td>\n",
              "      <td>601904800.0</td>\n",
              "      <td>6.604825</td>\n",
              "    </tr>\n",
              "    <tr>\n",
              "      <th>2010-01-06</th>\n",
              "      <td>7.686786</td>\n",
              "      <td>7.526786</td>\n",
              "      <td>7.656428</td>\n",
              "      <td>7.534643</td>\n",
              "      <td>552160000.0</td>\n",
              "      <td>6.499768</td>\n",
              "    </tr>\n",
              "    <tr>\n",
              "      <th>2010-01-07</th>\n",
              "      <td>7.571429</td>\n",
              "      <td>7.466072</td>\n",
              "      <td>7.562500</td>\n",
              "      <td>7.520714</td>\n",
              "      <td>477131200.0</td>\n",
              "      <td>6.487752</td>\n",
              "    </tr>\n",
              "    <tr>\n",
              "      <th>2010-01-08</th>\n",
              "      <td>7.571429</td>\n",
              "      <td>7.466429</td>\n",
              "      <td>7.510714</td>\n",
              "      <td>7.570714</td>\n",
              "      <td>447610800.0</td>\n",
              "      <td>6.530883</td>\n",
              "    </tr>\n",
              "    <tr>\n",
              "      <th>...</th>\n",
              "      <td>...</td>\n",
              "      <td>...</td>\n",
              "      <td>...</td>\n",
              "      <td>...</td>\n",
              "      <td>...</td>\n",
              "      <td>...</td>\n",
              "    </tr>\n",
              "    <tr>\n",
              "      <th>2020-12-23</th>\n",
              "      <td>132.429993</td>\n",
              "      <td>130.779999</td>\n",
              "      <td>132.160004</td>\n",
              "      <td>130.960007</td>\n",
              "      <td>88223700.0</td>\n",
              "      <td>130.960007</td>\n",
              "    </tr>\n",
              "    <tr>\n",
              "      <th>2020-12-24</th>\n",
              "      <td>133.460007</td>\n",
              "      <td>131.100006</td>\n",
              "      <td>131.320007</td>\n",
              "      <td>131.970001</td>\n",
              "      <td>54930100.0</td>\n",
              "      <td>131.970001</td>\n",
              "    </tr>\n",
              "    <tr>\n",
              "      <th>2020-12-28</th>\n",
              "      <td>137.339996</td>\n",
              "      <td>133.509995</td>\n",
              "      <td>133.990005</td>\n",
              "      <td>136.690002</td>\n",
              "      <td>124486200.0</td>\n",
              "      <td>136.690002</td>\n",
              "    </tr>\n",
              "    <tr>\n",
              "      <th>2020-12-29</th>\n",
              "      <td>138.789993</td>\n",
              "      <td>134.339996</td>\n",
              "      <td>138.050003</td>\n",
              "      <td>134.869995</td>\n",
              "      <td>121047300.0</td>\n",
              "      <td>134.869995</td>\n",
              "    </tr>\n",
              "    <tr>\n",
              "      <th>2020-12-30</th>\n",
              "      <td>135.990005</td>\n",
              "      <td>133.399994</td>\n",
              "      <td>135.580002</td>\n",
              "      <td>133.720001</td>\n",
              "      <td>96452100.0</td>\n",
              "      <td>133.720001</td>\n",
              "    </tr>\n",
              "  </tbody>\n",
              "</table>\n",
              "<p>2768 rows × 6 columns</p>\n",
              "</div>"
            ],
            "text/plain": [
              "                  High         Low  ...       Volume   Adj Close\n",
              "Date                                ...                         \n",
              "2010-01-04    7.660714    7.585000  ...  493729600.0    6.593426\n",
              "2010-01-05    7.699643    7.616071  ...  601904800.0    6.604825\n",
              "2010-01-06    7.686786    7.526786  ...  552160000.0    6.499768\n",
              "2010-01-07    7.571429    7.466072  ...  477131200.0    6.487752\n",
              "2010-01-08    7.571429    7.466429  ...  447610800.0    6.530883\n",
              "...                ...         ...  ...          ...         ...\n",
              "2020-12-23  132.429993  130.779999  ...   88223700.0  130.960007\n",
              "2020-12-24  133.460007  131.100006  ...   54930100.0  131.970001\n",
              "2020-12-28  137.339996  133.509995  ...  124486200.0  136.690002\n",
              "2020-12-29  138.789993  134.339996  ...  121047300.0  134.869995\n",
              "2020-12-30  135.990005  133.399994  ...   96452100.0  133.720001\n",
              "\n",
              "[2768 rows x 6 columns]"
            ]
          },
          "metadata": {
            "tags": []
          },
          "execution_count": 3
        }
      ]
    },
    {
      "cell_type": "code",
      "metadata": {
        "colab": {
          "base_uri": "https://localhost:8080/"
        },
        "id": "jT6Q_IuAY_p6",
        "outputId": "105e1fe3-f7c2-4c7f-e974-b60ca096d59f"
      },
      "source": [
        "#Get the number of rows and columns in the dataset\n",
        "df.shape"
      ],
      "execution_count": null,
      "outputs": [
        {
          "output_type": "execute_result",
          "data": {
            "text/plain": [
              "(2768, 6)"
            ]
          },
          "metadata": {
            "tags": []
          },
          "execution_count": 4
        }
      ]
    },
    {
      "cell_type": "code",
      "metadata": {
        "colab": {
          "base_uri": "https://localhost:8080/",
          "height": 558
        },
        "id": "NrNIHZNdZQzf",
        "outputId": "185c3cf9-8f2b-4d20-d868-180902f1f7ff"
      },
      "source": [
        "#Visualize the closing price history\n",
        "plt.figure(figsize=(16,8))\n",
        "plt.title('Close Price History')\n",
        "plt.plot(df['Close'])\n",
        "plt.xlabel('Date', fontsize=18)\n",
        "plt.ylabel('Close Price USD ($)', fontsize=18)\n",
        "plt.show()"
      ],
      "execution_count": null,
      "outputs": [
        {
          "output_type": "display_data",
          "data": {
            "image/png": "[encoded data removed]",
            "text/plain": [
              "<Figure size 1152x576 with 1 Axes>"
            ]
          },
          "metadata": {
            "tags": []
          }
        }
      ]
    },
    {
      "cell_type": "code",
      "metadata": {
        "colab": {
          "base_uri": "https://localhost:8080/"
        },
        "id": "pJzUIaSHds_Y",
        "outputId": "c457b7e7-1dec-43ad-df14-02bcfd46aa0a"
      },
      "source": [
        "#Create a new dataframe with only 'Close Column'\n",
        "data = df.filter(['Close'])\n",
        "#Convert the dataframe to a numpy array\n",
        "dataset = data.values\n",
        "#Get the number of rows to train the model on\n",
        "training_data_len = math.ceil( len(dataset) * .8 )\n",
        "\n",
        "training_data_len"
      ],
      "execution_count": null,
      "outputs": [
        {
          "output_type": "execute_result",
          "data": {
            "text/plain": [
              "2215"
            ]
          },
          "metadata": {
            "tags": []
          },
          "execution_count": 6
        }
      ]
    },
    {
      "cell_type": "code",
      "metadata": {
        "colab": {
          "base_uri": "https://localhost:8080/"
        },
        "id": "C8lyOxuWfRRq",
        "outputId": "545ac264-40b9-49c3-f951-515c26df4ca4"
      },
      "source": [
        "#Scale the data\n",
        "scaler = MinMaxScaler(feature_range=(0,1))\n",
        "scaled_data = scaler.fit_transform(dataset)\n",
        "\n",
        "scaled_data"
      ],
      "execution_count": null,
      "outputs": [
        {
          "output_type": "execute_result",
          "data": {
            "text/plain": [
              "array([[0.00604082],\n",
              "       [0.00614259],\n",
              "       [0.00520456],\n",
              "       ...,\n",
              "       [1.        ],\n",
              "       [0.98598173],\n",
              "       [0.97712411]])"
            ]
          },
          "metadata": {
            "tags": []
          },
          "execution_count": 7
        }
      ]
    },
    {
      "cell_type": "code",
      "metadata": {
        "colab": {
          "base_uri": "https://localhost:8080/"
        },
        "id": "7MdazuPMh8iM",
        "outputId": "9099c5f8-e4d1-436e-f685-8a2a7ae4d7b2"
      },
      "source": [
        "#Create the traininig data set\n",
        "#Create the scaled training data set\n",
        "train_data = scaled_data[0:training_data_len, :]\n",
        "#Split the train into x_train and y_train data sets\n",
        "x_train = []\n",
        "y_train = []\n",
        "\n",
        "for i in range(60, len(train_data)):\n",
        "  x_train.append(train_data[i-60:i, 0])\n",
        "  y_train.append(train_data[i, 0])\n",
        "  if i<=61:\n",
        "    print(x_train)\n",
        "    print(y_train)\n",
        "    print()"
      ],
      "execution_count": null,
      "outputs": [
        {
          "output_type": "stream",
          "text": [
            "[array([6.04081537e-03, 6.14259463e-03, 5.20456310e-03, 5.09728206e-03,\n",
            "       5.48239934e-03, 4.96799389e-03, 4.31054582e-03, 5.11653829e-03,\n",
            "       4.78093703e-03, 3.81814748e-03, 6.32414971e-03, 5.41362709e-03,\n",
            "       4.40682330e-03, 1.56797070e-03, 3.03141124e-03, 3.82089837e-03,\n",
            "       4.35456006e-03, 1.99159678e-03, 2.75089022e-06, 7.37220216e-04,\n",
            "       1.04806347e-03, 1.97509143e-03, 0.00000000e+00, 9.38031530e-04,\n",
            "       5.69419585e-04, 1.13884284e-03, 8.44504935e-04, 1.82104525e-03,\n",
            "       2.29143646e-03, 3.12218695e-03, 2.88836862e-03, 2.99289878e-03,\n",
            "       2.64629396e-03, 2.30244003e-03, 1.37816295e-03, 2.36846139e-03,\n",
            "       2.73707334e-03, 3.45778821e-03, 4.65990153e-03, 4.62138907e-03,\n",
            "       4.75342812e-03, 5.13304363e-03, 7.39972575e-03, 7.43548365e-03,\n",
            "       8.51931237e-03, 9.01995970e-03, 9.20151845e-03, 9.50410903e-03,\n",
            "       8.74487802e-03, 8.91267865e-03, 8.82190294e-03, 8.96769645e-03,\n",
            "       8.30749749e-03, 8.99520536e-03, 9.98825102e-03, 1.02660873e-02,\n",
            "       9.51785981e-03, 1.06869624e-02, 1.10968341e-02, 1.20486200e-02])]\n",
            "[0.011814805398426304]\n",
            "\n",
            "[array([6.04081537e-03, 6.14259463e-03, 5.20456310e-03, 5.09728206e-03,\n",
            "       5.48239934e-03, 4.96799389e-03, 4.31054582e-03, 5.11653829e-03,\n",
            "       4.78093703e-03, 3.81814748e-03, 6.32414971e-03, 5.41362709e-03,\n",
            "       4.40682330e-03, 1.56797070e-03, 3.03141124e-03, 3.82089837e-03,\n",
            "       4.35456006e-03, 1.99159678e-03, 2.75089022e-06, 7.37220216e-04,\n",
            "       1.04806347e-03, 1.97509143e-03, 0.00000000e+00, 9.38031530e-04,\n",
            "       5.69419585e-04, 1.13884284e-03, 8.44504935e-04, 1.82104525e-03,\n",
            "       2.29143646e-03, 3.12218695e-03, 2.88836862e-03, 2.99289878e-03,\n",
            "       2.64629396e-03, 2.30244003e-03, 1.37816295e-03, 2.36846139e-03,\n",
            "       2.73707334e-03, 3.45778821e-03, 4.65990153e-03, 4.62138907e-03,\n",
            "       4.75342812e-03, 5.13304363e-03, 7.39972575e-03, 7.43548365e-03,\n",
            "       8.51931237e-03, 9.01995970e-03, 9.20151845e-03, 9.50410903e-03,\n",
            "       8.74487802e-03, 8.91267865e-03, 8.82190294e-03, 8.96769645e-03,\n",
            "       8.30749749e-03, 8.99520536e-03, 9.98825102e-03, 1.02660873e-02,\n",
            "       9.51785981e-03, 1.06869624e-02, 1.10968341e-02, 1.20486200e-02]), array([6.14259463e-03, 5.20456310e-03, 5.09728206e-03, 5.48239934e-03,\n",
            "       4.96799389e-03, 4.31054582e-03, 5.11653829e-03, 4.78093703e-03,\n",
            "       3.81814748e-03, 6.32414971e-03, 5.41362709e-03, 4.40682330e-03,\n",
            "       1.56797070e-03, 3.03141124e-03, 3.82089837e-03, 4.35456006e-03,\n",
            "       1.99159678e-03, 2.75089022e-06, 7.37220216e-04, 1.04806347e-03,\n",
            "       1.97509143e-03, 0.00000000e+00, 9.38031530e-04, 5.69419585e-04,\n",
            "       1.13884284e-03, 8.44504935e-04, 1.82104525e-03, 2.29143646e-03,\n",
            "       3.12218695e-03, 2.88836862e-03, 2.99289878e-03, 2.64629396e-03,\n",
            "       2.30244003e-03, 1.37816295e-03, 2.36846139e-03, 2.73707334e-03,\n",
            "       3.45778821e-03, 4.65990153e-03, 4.62138907e-03, 4.75342812e-03,\n",
            "       5.13304363e-03, 7.39972575e-03, 7.43548365e-03, 8.51931237e-03,\n",
            "       9.01995970e-03, 9.20151845e-03, 9.50410903e-03, 8.74487802e-03,\n",
            "       8.91267865e-03, 8.82190294e-03, 8.96769645e-03, 8.30749749e-03,\n",
            "       8.99520536e-03, 9.98825102e-03, 1.02660873e-02, 9.51785981e-03,\n",
            "       1.06869624e-02, 1.10968341e-02, 1.20486200e-02, 1.18148054e-02])]\n",
            "[0.011814805398426304, 0.012081630731837878]\n",
            "\n"
          ],
          "name": "stdout"
        }
      ]
    },
    {
      "cell_type": "code",
      "metadata": {
        "id": "8sKHzuvWonSk"
      },
      "source": [
        "#Conert the x_train and y_train to numpy arrays so that we can train our LSTM model\n",
        "x_train, y_train = np.array(x_train), np.array(y_train)"
      ],
      "execution_count": null,
      "outputs": []
    },
    {
      "cell_type": "code",
      "metadata": {
        "colab": {
          "base_uri": "https://localhost:8080/"
        },
        "id": "DEXfWdFX8zyX",
        "outputId": "8ffdb4a1-9653-444e-9421-58d48c579fb2"
      },
      "source": [
        "#Reshape the data\n",
        "x_train = np.reshape(x_train, (x_train.shape[0], x_train.shape[1], 1))\n",
        "x_train.shape"
      ],
      "execution_count": null,
      "outputs": [
        {
          "output_type": "execute_result",
          "data": {
            "text/plain": [
              "(2155, 60, 1)"
            ]
          },
          "metadata": {
            "tags": []
          },
          "execution_count": 10
        }
      ]
    },
    {
      "cell_type": "code",
      "metadata": {
        "id": "5GE9p4U59ozq"
      },
      "source": [
        "#Build the LSTM model\n",
        "model = Sequential()\n",
        "model.add(LSTM(50, return_sequences=True, input_shape = (x_train.shape[1], 1)))\n",
        "model.add(LSTM(50, return_sequences=False))\n",
        "model.add(Dense(25))\n",
        "model.add(Dense(1))"
      ],
      "execution_count": null,
      "outputs": []
    },
    {
      "cell_type": "code",
      "metadata": {
        "id": "0ang59gR_ATX"
      },
      "source": [
        "#compile the model\n",
        "model.compile(optimizer='adam', loss= 'mean_squared_error')"
      ],
      "execution_count": null,
      "outputs": []
    },
    {
      "cell_type": "code",
      "metadata": {
        "colab": {
          "base_uri": "https://localhost:8080/"
        },
        "id": "CpSPJ3eA_X41",
        "outputId": "ed905cbe-f82d-4899-9322-d8092501fddc"
      },
      "source": [
        "#Train the model\n",
        "model.fit(x_train, y_train, batch_size=1, epochs=1)"
      ],
      "execution_count": null,
      "outputs": [
        {
          "output_type": "stream",
          "text": [
            "2155/2155 [==============================] - 53s 23ms/step - loss: 4.5217e-04\n"
          ],
          "name": "stdout"
        },
        {
          "output_type": "execute_result",
          "data": {
            "text/plain": [
              "<tensorflow.python.keras.callbacks.History at 0x7f7ff1221c88>"
            ]
          },
          "metadata": {
            "tags": []
          },
          "execution_count": 13
        }
      ]
    },
    {
      "cell_type": "code",
      "metadata": {
        "id": "fhR_rFBWAH8L"
      },
      "source": [
        "#Create the testing dataset\n",
        "#Create a new array containing scaled values from index 1543 to 2003\n",
        "test_data = scaled_data[training_data_len - 60: , :]\n",
        "#Create the data sets x_test and y_test\n",
        "x_test = []\n",
        "y_test = dataset[training_data_len:, :]\n",
        "for i in range(60, len(test_data)):\n",
        "  x_test.append(test_data[i-60:i, 0])"
      ],
      "execution_count": null,
      "outputs": []
    },
    {
      "cell_type": "code",
      "metadata": {
        "id": "QbnqvcabCOZU"
      },
      "source": [
        "#Convert the data to a numpy array\n",
        "x_test = np.array(x_test)"
      ],
      "execution_count": null,
      "outputs": []
    },
    {
      "cell_type": "code",
      "metadata": {
        "id": "284EVaGDCfOS"
      },
      "source": [
        "#Reshape the data\n",
        "x_test = np.reshape(x_test, (x_test.shape[0], x_test.shape[1], 1))"
      ],
      "execution_count": null,
      "outputs": []
    },
    {
      "cell_type": "code",
      "metadata": {
        "id": "S82x-ThzC_RD"
      },
      "source": [
        "#Get the model's predicted price values\n",
        "predictions = model.predict(x_test)\n",
        "predictions = scaler.inverse_transform(predictions)"
      ],
      "execution_count": null,
      "outputs": []
    },
    {
      "cell_type": "code",
      "metadata": {
        "colab": {
          "base_uri": "https://localhost:8080/"
        },
        "id": "4OBrqvyCDoZE",
        "outputId": "76db04e0-49d1-48af-8224-a8b6a061daee"
      },
      "source": [
        "#Get the root mean squared error (RMSE) to evaluate the model\n",
        "rmse = np.sqrt( np.mean( predictions - y_test )**2 )\n",
        "rmse"
      ],
      "execution_count": null,
      "outputs": [
        {
          "output_type": "execute_result",
          "data": {
            "text/plain": [
              "2.063732899119151"
            ]
          },
          "metadata": {
            "tags": []
          },
          "execution_count": 18
        }
      ]
    },
    {
      "cell_type": "code",
      "metadata": {
        "colab": {
          "base_uri": "https://localhost:8080/",
          "height": 662
        },
        "id": "0u7CuHCVEWmj",
        "outputId": "c217d976-7744-4236-8057-d35c97b079f0"
      },
      "source": [
        "#Plot the data\n",
        "train = data[:training_data_len]\n",
        "valid = data[training_data_len:]\n",
        "valid['Predictions'] = predictions\n",
        "#Visualize the data\n",
        "plt.figure(figsize=(16,8))\n",
        "plt.title('Model')\n",
        "plt.xlabel('Date', fontsize=18)\n",
        "plt.ylabel('Close Price USD ($) ', fontsize=18)\n",
        "plt.plot(train['Close'])\n",
        "plt.plot(valid[['Close', 'Predictions']])\n",
        "plt.legend(['Train', 'val', 'Predictions'], loc='lower right')\n",
        "plt.show()"
      ],
      "execution_count": null,
      "outputs": [
        {
          "output_type": "stream",
          "text": [
            "/usr/local/lib/python3.6/dist-packages/ipykernel_launcher.py:4: SettingWithCopyWarning: \n",
            "A value is trying to be set on a copy of a slice from a DataFrame.\n",
            "Try using .loc[row_indexer,col_indexer] = value instead\n",
            "\n",
            "See the caveats in the documentation: https://pandas.pydata.org/pandas-docs/stable/user_guide/indexing.html#returning-a-view-versus-a-copy\n",
            "  after removing the cwd from sys.path.\n"
          ],
          "name": "stderr"
        },
        {
          "output_type": "display_data",
          "data": {
            "image/png": "[encoded data removed]",
            "text/plain": [
              "<Figure size 1152x576 with 1 Axes>"
            ]
          },
          "metadata": {
            "tags": []
          }
        }
      ]
    },
    {
      "cell_type": "code",
      "metadata": {
        "colab": {
          "base_uri": "https://localhost:8080/",
          "height": 446
        },
        "id": "9CEa_ZkkGZye",
        "outputId": "1328ec54-3629-4f80-e989-2582d1778aad"
      },
      "source": [
        "#Show the Valid and predicted prices\n",
        "valid"
      ],
      "execution_count": null,
      "outputs": [
        {
          "output_type": "execute_result",
          "data": {
            "text/html": [
              "<div>\n",
              "<style scoped>\n",
              "    .dataframe tbody tr th:only-of-type {\n",
              "        vertical-align: middle;\n",
              "    }\n",
              "\n",
              "    .dataframe tbody tr th {\n",
              "        vertical-align: top;\n",
              "    }\n",
              "\n",
              "    .dataframe thead th {\n",
              "        text-align: right;\n",
              "    }\n",
              "</style>\n",
              "<table border=\"1\" class=\"dataframe\">\n",
              "  <thead>\n",
              "    <tr style=\"text-align: right;\">\n",
              "      <th></th>\n",
              "      <th>Close</th>\n",
              "      <th>Predictions</th>\n",
              "    </tr>\n",
              "    <tr>\n",
              "      <th>Date</th>\n",
              "      <th></th>\n",
              "      <th></th>\n",
              "    </tr>\n",
              "  </thead>\n",
              "  <tbody>\n",
              "    <tr>\n",
              "      <th>2018-10-19</th>\n",
              "      <td>54.827499</td>\n",
              "      <td>54.109707</td>\n",
              "    </tr>\n",
              "    <tr>\n",
              "      <th>2018-10-22</th>\n",
              "      <td>55.162498</td>\n",
              "      <td>54.012150</td>\n",
              "    </tr>\n",
              "    <tr>\n",
              "      <th>2018-10-23</th>\n",
              "      <td>55.682499</td>\n",
              "      <td>53.990891</td>\n",
              "    </tr>\n",
              "    <tr>\n",
              "      <th>2018-10-24</th>\n",
              "      <td>53.772499</td>\n",
              "      <td>54.068462</td>\n",
              "    </tr>\n",
              "    <tr>\n",
              "      <th>2018-10-25</th>\n",
              "      <td>54.950001</td>\n",
              "      <td>53.974354</td>\n",
              "    </tr>\n",
              "    <tr>\n",
              "      <th>...</th>\n",
              "      <td>...</td>\n",
              "      <td>...</td>\n",
              "    </tr>\n",
              "    <tr>\n",
              "      <th>2020-12-23</th>\n",
              "      <td>130.960007</td>\n",
              "      <td>123.117447</td>\n",
              "    </tr>\n",
              "    <tr>\n",
              "      <th>2020-12-24</th>\n",
              "      <td>131.970001</td>\n",
              "      <td>123.930298</td>\n",
              "    </tr>\n",
              "    <tr>\n",
              "      <th>2020-12-28</th>\n",
              "      <td>136.690002</td>\n",
              "      <td>124.732819</td>\n",
              "    </tr>\n",
              "    <tr>\n",
              "      <th>2020-12-29</th>\n",
              "      <td>134.869995</td>\n",
              "      <td>125.958771</td>\n",
              "    </tr>\n",
              "    <tr>\n",
              "      <th>2020-12-30</th>\n",
              "      <td>133.720001</td>\n",
              "      <td>127.007202</td>\n",
              "    </tr>\n",
              "  </tbody>\n",
              "</table>\n",
              "<p>553 rows × 2 columns</p>\n",
              "</div>"
            ],
            "text/plain": [
              "                 Close  Predictions\n",
              "Date                               \n",
              "2018-10-19   54.827499    54.109707\n",
              "2018-10-22   55.162498    54.012150\n",
              "2018-10-23   55.682499    53.990891\n",
              "2018-10-24   53.772499    54.068462\n",
              "2018-10-25   54.950001    53.974354\n",
              "...                ...          ...\n",
              "2020-12-23  130.960007   123.117447\n",
              "2020-12-24  131.970001   123.930298\n",
              "2020-12-28  136.690002   124.732819\n",
              "2020-12-29  134.869995   125.958771\n",
              "2020-12-30  133.720001   127.007202\n",
              "\n",
              "[553 rows x 2 columns]"
            ]
          },
          "metadata": {
            "tags": []
          },
          "execution_count": 20
        }
      ]
    },
    {
      "cell_type": "code",
      "metadata": {
        "colab": {
          "base_uri": "https://localhost:8080/"
        },
        "id": "cN2_XXZ1GxzE",
        "outputId": "31f6fd15-3093-43f4-f79b-c9b019411932"
      },
      "source": [
        "#Get the quote\n",
        "apple_quote = web.DataReader('AAPL', data_source='yahoo', start='2010-01-01', end='2020-12-30')\n",
        "#Create a new dataframe\n",
        "new_df = apple_quote.filter(['Close'])\n",
        "#Get the last 60 day closing price values and convert the dataframe to an array\n",
        "last_60_days = new_df[-60:].values\n",
        "#Scale the data to be values between 0 and 1\n",
        "last_60_days_scaled = scaler.transform(last_60_days)\n",
        "#Create an empty list\n",
        "X_test = []\n",
        "#Append the past 60 days\n",
        "X_test.append(last_60_days_scaled)\n",
        "#Convert the X_test data set to a numpy array\n",
        "X_test = np.array(X_test)\n",
        "#Reshape the data\n",
        "X_test = np.reshape(X_test, (X_test.shape[0], X_test.shape[1], 1))\n",
        "#Get the predicted scaled price\n",
        "pred_price = model.predict(X_test)\n",
        "#Undo the scaling\n",
        "pred_price = scaler.inverse_transform(pred_price)\n",
        "print(pred_price)"
      ],
      "execution_count": null,
      "outputs": [
        {
          "output_type": "stream",
          "text": [
            "[[127.73151]]\n"
          ],
          "name": "stdout"
        }
      ]
    },
    {
      "cell_type": "code",
      "metadata": {
        "colab": {
          "base_uri": "https://localhost:8080/"
        },
        "id": "rrQS74CkJxZf",
        "outputId": "265774ed-f3f3-4196-bffe-b45ce335c981"
      },
      "source": [
        "#Get the quote\n",
        "apple_quote2 = web.DataReader('AAPL', data_source='yahoo', start='2020-12-31', end='2020-12-31')\n",
        "print(apple_quote2['Close'])"
      ],
      "execution_count": null,
      "outputs": [
        {
          "output_type": "stream",
          "text": [
            "Date\n",
            "2020-12-31    132.690002\n",
            "Name: Close, dtype: float64\n"
          ],
          "name": "stdout"
        }
      ]
    }
  ]
}